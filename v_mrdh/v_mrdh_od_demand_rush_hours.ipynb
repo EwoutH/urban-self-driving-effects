{
 "cells": [
  {
   "metadata": {},
   "cell_type": "markdown",
   "source": "## V_MRDH model: OD demand for different modalities",
   "id": "e34d08fc394bfe69"
  },
  {
   "metadata": {},
   "cell_type": "code",
   "source": [
    "import pandas as pd\n",
    "import matplotlib.pyplot as plt\n",
    "import seaborn as sns"
   ],
   "id": "3179687ab03f3d44",
   "outputs": [],
   "execution_count": null
  },
  {
   "metadata": {},
   "cell_type": "markdown",
   "source": "#### OD matrices",
   "id": "221642c26528ee04"
  },
  {
   "metadata": {},
   "cell_type": "code",
   "source": [
    "modalities = [\"Auto\", \"Fiets\", \"OV\"]\n",
    "periods = [\"os\", \"rd\", \"as\"]  # ochtendspits (7-9), restdag, avondspits (16-18)\n",
    "\n",
    "od = {}\n",
    "\n",
    "for modality in modalities:\n",
    "    for period in periods:\n",
    "        od[modality, period] = pd.read_excel('V_MRDH_MatComp_2020.xlsx', sheet_name=f\"{modality}_{period}\", index_col=0, usecols='A:BN', nrows=65)\n",
    "                                 \n",
    "od_etm = {}\n",
    "for modality in modalities:\n",
    "    od_etm[modality] = pd.read_excel('V_MRDH_MatComp_2020.xlsx', sheet_name=f\"{modality}_etm\", index_col=0, usecols='A:BN', nrows=65)"
   ],
   "id": "9093edcbf47719c1",
   "outputs": [],
   "execution_count": null
  },
  {
   "metadata": {},
   "cell_type": "code",
   "source": "od_etm[\"Auto\"].head(5)",
   "id": "74971dc02fed855a",
   "outputs": [],
   "execution_count": null
  },
  {
   "metadata": {},
   "cell_type": "code",
   "source": [
    "# Add the number for each column and index\n",
    "for modality in modalities:\n",
    "    for period in periods:\n",
    "        od[modality, period].columns = range(1, 66)\n",
    "        od[modality, period].index = range(1, 66)\n",
    "    od_etm[modality].columns = range(1, 66)\n",
    "    od_etm[modality].index = range(1, 66)"
   ],
   "id": "9119cde34ca5cf28",
   "outputs": [],
   "execution_count": null
  },
  {
   "metadata": {},
   "cell_type": "code",
   "source": [
    "# Calculate the total demand for each period\n",
    "od_totaal = {}\n",
    "for period in periods:\n",
    "    od_totaal[period] = sum(od[modality, period] for modality in modalities)\n",
    "\n",
    "od_totaal_etm = sum(od_etm[modality] for modality in modalities)"
   ],
   "id": "1108734fa9ec7ba",
   "outputs": [],
   "execution_count": null
  },
  {
   "metadata": {},
   "cell_type": "markdown",
   "source": "### Inbound / outbound traffic",
   "id": "652021a4b0266746"
  },
  {
   "metadata": {},
   "cell_type": "code",
   "source": [
    "# Calculate the total inbound and outbound traffic for area 1 to 65 in each period\n",
    "inbound = {}\n",
    "outbound = {}\n",
    "diff = {}\n",
    "for period in periods:\n",
    "    inbound[period] = od_totaal[period].sum(axis=0)\n",
    "    outbound[period] = od_totaal[period].sum(axis=1)\n",
    "    diff[period] = inbound[period] - outbound[period]\n",
    "\n",
    "inbound_df = pd.DataFrame(inbound)\n",
    "outbound_df = pd.DataFrame(outbound)\n",
    "total_df = inbound_df + outbound_df\n",
    "diff_df = pd.DataFrame(diff)\n",
    "ratio_df = diff_df.div(total_df, axis=0)\n",
    "\n",
    "# Plot heatmaps of the diff df\n",
    "fig, ax = plt.subplots(3, 1, figsize=(16, 4.5))\n",
    "# Use another color map for total_df, starting at white: \n",
    "sns.heatmap(total_df.iloc[:50, :].T, cmap=\"Greens\", square=True, ax=ax[0])\n",
    "ax[0].set_title(\"Total traffic for each period\")\n",
    "sns.heatmap(diff_df.iloc[:50, :].T, cmap='coolwarm', center=0, square=True, ax=ax[1])\n",
    "# Add a title\n",
    "ax[1].set_title(\"Difference between inbound and outbound traffic for each period\")\n",
    "sns.heatmap(ratio_df.iloc[:50, :].T, cmap='coolwarm', center=0, square=True, ax=ax[2])\n",
    "ax[2].set_title(\"Ratio between inbound and outbound traffic for each period (negative means more outbound)\")\n",
    "# Set the y-axis labels Ochtendspits, Restdag, Avondspits\n",
    "for x in ax:\n",
    "    x.set_yticklabels([\"Ochtendspits (7-9)\", \"Restdag\", \"Avondspits (16-18)\"], rotation=0)\n",
    "\n",
    "plt.tight_layout()\n",
    "plt.savefig(f\"../img/inbound_outbound_traffic.png\", dpi=300, bbox_inches='tight')"
   ],
   "id": "398f04fe952b7f2f",
   "outputs": [],
   "execution_count": null
  },
  {
   "metadata": {},
   "cell_type": "code",
   "source": [
    "# Normalize over the row, so that the sum of each row is 1\n",
    "od_totaal_norm = {}\n",
    "for modality, df in od_totaal.items():\n",
    "    od_totaal_norm[modality] = df.div(df.sum(axis=1), axis=0)\n",
    "    \n",
    "# Save as NumPy arrays with uint16 datatype to save memory\n",
    "# TODO"
   ],
   "id": "c926d4ad4b39f1ca",
   "outputs": [],
   "execution_count": null
  },
  {
   "metadata": {},
   "cell_type": "markdown",
   "source": "### External car traffic",
   "id": "a00fcba481653fe6"
  },
  {
   "metadata": {},
   "cell_type": "code",
   "source": [
    "# TODO\n",
    "# Create a numpy array with the car traffic from the external areas to the city areas and visa versa\n",
    "int_mrhd65_areas = [1, 2, 3, 4, 5, 6, 7, 8, 9, 10, 11, 13, 15, 28, 29, 31, 34, 41, 43, 44, 45]\n",
    "ext_mrdh65_areas = [14, 32, 35, 37, 38, 39, 40, 53, 54, 55, 56, 57, 58]"
   ],
   "id": "38565c7c8dc7817a",
   "outputs": [],
   "execution_count": null
  },
  {
   "metadata": {},
   "cell_type": "code",
   "source": [
    "# Area numbers are from:\n",
    "#     # UXsim world (from traffic.py)\n",
    "#     self.uw = get_uxsim_world(save_mode=False, show_mode=True)\n",
    "#     # mrdh65 areas without population but covered in the network\n",
    "#     self.mrdh65s_ext = list(set(self.uw.node_mrdh65_dict.keys()) - set(self.mrdh65s))\n",
    "#     self.mrdh65s_ext.remove(0)\n",
    "#     print(f\"MRDH65 areas: {self.mrdh65s} (total {len(self.mrdh65s)}), extended areas: {self.mrdh65s_ext} (total {len(self.mrdh65s_ext)})\")"
   ],
   "id": "3352c47c4b7afd1a",
   "outputs": [],
   "execution_count": null
  },
  {
   "metadata": {},
   "cell_type": "code",
   "source": [
    "# Plot the internal and external areas\n",
    "fig, ax = plt.subplots(figsize=(8, 8))\n",
    "areas_65.loc[int_mrhd65_areas].plot(ax=ax, color='red', alpha=0.5)\n",
    "areas_65.loc[ext_mrdh65_areas].plot(ax=ax, color='blue', alpha=0.5)\n",
    "ax.set_title(\"Areas with simulated population (red) and without simulated population (blue)\")\n",
    "plt.savefig(f\"../img/internal_external_areas.png\", dpi=300, bbox_inches='tight')"
   ],
   "id": "d15c1ff9949e7d3",
   "outputs": [],
   "execution_count": null
  },
  {
   "metadata": {},
   "cell_type": "code",
   "source": [
    "# Create a selection of od. Use uint16 datatype to save memory\n",
    "od_ext_into_city = od[\"Auto\"].loc[ext_mrdh65_areas, int_mrhd65_areas].astype('uint16')\n",
    "od_ext_out_city = od[\"Auto\"].loc[int_mrhd65_areas, ext_mrdh65_areas].astype('uint16')\n",
    "\n",
    "# Save both as pickle\n",
    "od_ext_into_city.to_pickle('../data/od_ext_into_city.pkl')\n",
    "od_ext_out_city.to_pickle('../data/od_ext_out_city.pkl')"
   ],
   "id": "632d3f659a56c205",
   "outputs": [],
   "execution_count": null
  }
 ],
 "metadata": {
  "kernelspec": {
   "display_name": "Python 3",
   "language": "python",
   "name": "python3"
  },
  "language_info": {
   "codemirror_mode": {
    "name": "ipython",
    "version": 2
   },
   "file_extension": ".py",
   "mimetype": "text/x-python",
   "name": "python",
   "nbconvert_exporter": "python",
   "pygments_lexer": "ipython2",
   "version": "2.7.6"
  }
 },
 "nbformat": 4,
 "nbformat_minor": 5
}
