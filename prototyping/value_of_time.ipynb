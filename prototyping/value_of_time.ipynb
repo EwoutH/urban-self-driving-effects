{
 "cells": [
  {
   "cell_type": "code",
   "id": "initial_id",
   "metadata": {
    "collapsed": true,
    "ExecuteTime": {
     "end_time": "2024-10-28T16:09:26.087148Z",
     "start_time": "2024-10-28T16:09:26.083927Z"
    }
   },
   "source": [
    "# Imports\n",
    "import numpy as np\n",
    "import matplotlib.pyplot as plt\n",
    "import seaborn as sns"
   ],
   "outputs": [],
   "execution_count": 1
  },
  {
   "metadata": {
    "ExecuteTime": {
     "end_time": "2024-10-28T16:09:26.171074Z",
     "start_time": "2024-10-28T16:09:26.091246Z"
    }
   },
   "cell_type": "code",
   "source": [
    "# Define some VoT values\n",
    "vot = min(np.random.lognormal(mean=-0.1116, sigma=0.4724), 4)\n",
    "vots = [min(np.random.lognormal(mean=-0.1116, sigma=0.4724), 4) for i in range(100000)]"
   ],
   "id": "fd497976589e3b78",
   "outputs": [],
   "execution_count": 2
  },
  {
   "metadata": {
    "ExecuteTime": {
     "end_time": "2024-10-28T16:09:26.358948Z",
     "start_time": "2024-10-28T16:09:26.332813Z"
    }
   },
   "cell_type": "code",
   "source": [
    "default_value_of_times = {\n",
    "    \"car\": 10.42,\n",
    "    \"bike\": 10.39,\n",
    "    \"transit\": 7.12,\n",
    "}\n",
    "car_vot = default_value_of_times[\"car\"]\n",
    "\n",
    "vots_per_mode = {}\n",
    "for mode, vot in default_value_of_times.items():\n",
    "    vots_mode = [vot * value for value in vots]\n",
    "    vots_per_mode[mode] = vots_mode\n",
    "\n",
    "av_vot_factors = [1.0, 0.5, 0.25]\n",
    "vots_avs = {}\n",
    "for factor in av_vot_factors:\n",
    "    vots_av = [car_vot * factor * value for value in vots]\n",
    "    vots_avs[f\"{factor}\"] = vots_av"
   ],
   "id": "ce4b984b2d075090",
   "outputs": [],
   "execution_count": 3
  },
  {
   "metadata": {
    "jupyter": {
     "is_executing": true
    },
    "ExecuteTime": {
     "start_time": "2024-10-28T16:09:26.365235Z"
    }
   },
   "cell_type": "code",
   "source": [
    "# Set the ratio 4:1:4:1\n",
    "fig, axes = plt.subplots(2, 2, figsize=(9, 6), gridspec_kw={\"width_ratios\": [3, 1]})\n",
    "axes = axes.flatten()\n",
    "vot_label = \"Value of Time (€/h)\"\n",
    "\n",
    "sns.histplot(vots_per_mode, ax=axes[0], kde=True, bins=100)\n",
    "sns.boxplot(vots_per_mode, ax=axes[1], showmeans=True, showfliers=False)\n",
    "sns.histplot(vots_avs, ax=axes[2], kde=True, bins=100)\n",
    "sns.boxplot(vots_avs, ax=axes[3], showmeans=True, showfliers=False)\n",
    "\n",
    "axes[0].set_title(\"Value of Time distribution per mode\", loc=\"left\")\n",
    "axes[2].set_title(\"Value of Time distribution for the AV VoT factors used in the experiments\", loc=\"left\")\n",
    "\n",
    "axes[0].set_xlabel(vot_label)\n",
    "axes[1].set_ylabel(vot_label)\n",
    "axes[1].set_xlabel(\"Mode\")\n",
    "axes[2].set_xlabel(vot_label)\n",
    "axes[3].set_ylabel(vot_label)\n",
    "axes[3].set_xlabel(\"AV VoT factor\")\n",
    "\n",
    "# Remove the y-axis ticks and labels of the histplots\n",
    "axes[0].set_yticks([])\n",
    "axes[2].set_yticks([])\n",
    "axes[0].set_ylabel(None)\n",
    "axes[2].set_ylabel(None)\n",
    "\n",
    "# Set the x-axis limits\n",
    "axes[0].set_xlim(0)\n",
    "axes[1].set_ylim(0)\n",
    "axes[2].set_xlim(0)\n",
    "axes[3].set_ylim(0)\n",
    "\n",
    "# Tight layout and save\n",
    "plt.tight_layout()\n",
    "plt.savefig(\"../img/vot_distribution.svg\", dpi=300)"
   ],
   "id": "d8e2021e0e852102",
   "outputs": [],
   "execution_count": null
  }
 ],
 "metadata": {
  "kernelspec": {
   "display_name": "Python 3",
   "language": "python",
   "name": "python3"
  },
  "language_info": {
   "codemirror_mode": {
    "name": "ipython",
    "version": 2
   },
   "file_extension": ".py",
   "mimetype": "text/x-python",
   "name": "python",
   "nbconvert_exporter": "python",
   "pygments_lexer": "ipython2",
   "version": "2.7.6"
  }
 },
 "nbformat": 4,
 "nbformat_minor": 5
}
