{
 "cells": [
  {
   "metadata": {},
   "cell_type": "markdown",
   "source": "#### Single model data analysis",
   "id": "c19026448bc110cf"
  },
  {
   "metadata": {},
   "cell_type": "code",
   "source": [
    "import pickle\n",
    "\n",
    "import numpy as np\n",
    "import pandas as pd\n",
    "import geopandas as gpd\n",
    "import seaborn as sns\n",
    "import matplotlib.pyplot as plt"
   ],
   "id": "30f0cf31c29c017c",
   "outputs": [],
   "execution_count": null
  },
  {
   "metadata": {},
   "cell_type": "code",
   "source": [
    "# load uxsim_data.pkl\n",
    "with open('results/journeys_df.pkl', 'rb') as f:\n",
    "    journeys_df = pickle.load(f)\n",
    "with open('results/uxsim_df.pkl', 'rb') as f:\n",
    "    uxsim_df = pickle.load(f)\n",
    "with open('results/parked_dict.pkl', 'rb') as f:\n",
    "    parked_dict = pickle.load(f)"
   ],
   "id": "dd56f0db24627b63",
   "outputs": [],
   "execution_count": null
  },
  {
   "metadata": {},
   "cell_type": "code",
   "source": [
    "city_areas = [1, 2, 3, 4, 5, 6, 7, 8, 9, 10, 11, 13, 15, 28, 29, 31, 34, 41, 43, 44, 45]\n",
    "\n",
    "trips_by_hour_chances = pd.read_pickle(\"../data/trips_by_hour_chances.pickle\")\n",
    "trip_counts_distribution = pd.read_pickle(\"../data/trip_counts_distribution.pickle\")\n",
    "\n",
    "start_time, end_time = int(journeys_df['start_time'].min()), int(journeys_df['start_time'].max())"
   ],
   "id": "323098a00b9ac278",
   "outputs": [],
   "execution_count": null
  },
  {
   "metadata": {},
   "cell_type": "markdown",
   "source": "### Journeys data",
   "id": "e5a5161911b8117c"
  },
  {
   "metadata": {},
   "cell_type": "code",
   "source": "journeys_df.head()",
   "id": "2672073a322075d",
   "outputs": [],
   "execution_count": null
  },
  {
   "metadata": {},
   "cell_type": "code",
   "source": [
    "# Print the mode by start_time hour (float to int)\n",
    "journeys_df['start_time_h'] = journeys_df['start_time'].astype(int)\n",
    "\n",
    "# Group by start_time\n",
    "journeys_grouped = journeys_df.groupby(['start_time_h'])\n",
    "# Get the percentage for each mode of each hour in a dataframe\n",
    "journeys_grouped = journeys_grouped['mode'].value_counts(normalize=True).unstack().fillna(0)\n",
    "\n",
    "# Plot\n",
    "plt.figure(figsize=(6, 3))\n",
    "sns.lineplot(data=journeys_grouped, dashes=False)\n",
    "plt.xlim(start_time, end_time)\n",
    "plt.ylim(0, 1)\n",
    "plt.title('Mode distribution per hour')"
   ],
   "id": "44eb99cb55ec23cc",
   "outputs": [],
   "execution_count": null
  },
  {
   "metadata": {},
   "cell_type": "code",
   "source": [
    "journeys_df['travel_time_min'] = journeys_df['travel_time'] / 60\n",
    "\n",
    "n_bins = 40\n",
    "hist_columns = ['travel_time_min', 'distance', 'cost', 'perceived_cost']\n",
    "x_labels = ['Travel time (min)', 'Distance (km)', 'Cost (€)', 'Perceived cost (€)']\n",
    "upper_xlim = [journeys_df[col].quantile(0.999) for col in hist_columns]\n",
    "\n",
    "# Histogram of each column\n",
    "fig, axs = plt.subplots(2, 4, figsize=(16, 7))\n",
    "axs = axs.flatten()\n",
    "\n",
    "for i, col in enumerate(hist_columns):\n",
    "    plot_df = journeys_df[(journeys_df[col] < upper_xlim[i]) & (journeys_df[col] > 0)][[col, 'mode']].copy()\n",
    "    sns.histplot(plot_df, x=col, hue='mode', multiple='stack', ax=axs[i], bins=n_bins)\n",
    "    axs[i].set_title(f'{col} distribution')\n",
    "    axs[i].set_xlabel(x_labels[i])\n",
    "    axs[i].set_ylabel('Frequency')\n",
    "    axs[i].set_xlim(0, upper_xlim[i])\n",
    "    \n",
    "# 100% stacked histograms\n",
    "for i, col in enumerate(hist_columns):\n",
    "    plot_df = journeys_df[(journeys_df[col] < upper_xlim[i]) & (journeys_df[col] > 0)][[col, 'mode']].copy()\n",
    "    \n",
    "    # Create bins and count values within each bin for each mode\n",
    "    hist, bin_edges = np.histogram(plot_df[col], bins=n_bins, range=(0, upper_xlim[i]))\n",
    "    mode_counts = {}\n",
    "    for mode in plot_df['mode'].unique():\n",
    "        mode_hist, _ = np.histogram(plot_df[plot_df['mode'] == mode][col], bins=bin_edges)\n",
    "        mode_counts[mode] = mode_hist\n",
    "    \n",
    "    # Calculate percentages\n",
    "    total = np.sum(list(mode_counts.values()), axis=0)\n",
    "    for mode in mode_counts:\n",
    "        mode_counts[mode] = np.divide(mode_counts[mode], total, out=np.zeros_like(mode_counts[mode], dtype=float), where=total!=0) * 100\n",
    "    \n",
    "    # Plot stacked histogram\n",
    "    bottom = np.zeros(n_bins)\n",
    "    for mode, counts in mode_counts.items():\n",
    "        axs[i+4].bar(bin_edges[:-1], counts, bottom=bottom, width=np.diff(bin_edges), label=mode, alpha=0.7)\n",
    "        bottom += counts\n",
    "    \n",
    "    axs[i+4].set_title(f'{col} distribution (100% stacked)')\n",
    "    axs[i+4].set_xlabel(x_labels[i])\n",
    "    axs[i+4].set_ylabel('Percentage')\n",
    "    axs[i+4].set_xlim(0, upper_xlim[i])\n",
    "    axs[i+4].legend()\n",
    "\n",
    "plt.tight_layout()\n",
    "plt.savefig('img/journeys_data.png', dpi=300, bbox_inches='tight')\n",
    "plt.show()"
   ],
   "id": "c19e50559a461e0f",
   "outputs": [],
   "execution_count": null
  },
  {
   "metadata": {},
   "cell_type": "markdown",
   "source": "### Input data visualization (for comparison)",
   "id": "ca7d87b26731c7f9"
  },
  {
   "metadata": {},
   "cell_type": "code",
   "source": [
    "# For a weekday, take the average of days 0-3 (Monday-Thursday)\n",
    "trips_by_hour_chance = trips_by_hour_chances.iloc[:, 0:4].mean(axis=1).drop(\"Total\")\n",
    "# Drop the hours that are not in the range of the model and save as a dictionary\n",
    "trips_by_hour_chance = trips_by_hour_chance.loc[start_time:(end_time)]\n",
    "# Set column name\n",
    "trips_by_hour_chance.name = 'Chance'\n",
    "# To df\n",
    "trips_by_hour_chance = trips_by_hour_chance.reset_index()\n",
    "# Set hour as int\n",
    "trips_by_hour_chance['Hour'] = trips_by_hour_chance['Hour'].astype(int)\n",
    "trips_by_hour_chance.head(3)"
   ],
   "id": "8d3438a27ac62d9c",
   "outputs": [],
   "execution_count": null
  },
  {
   "metadata": {},
   "cell_type": "code",
   "source": [
    "# Plot trips_by_hour_chances series\n",
    "fig, ax = plt.subplots(figsize=(6, 3))\n",
    "sns.barplot(data=trips_by_hour_chance, x='Hour', y='Chance', ax=ax)\n",
    "ax.set_title('Trip chances per Agent per hour')\n",
    "ax.set_ylabel('Chance of taking trip')\n",
    "ax.set_xlabel('Time of day (hour)')"
   ],
   "id": "f49a1fa4b4863f46",
   "outputs": [],
   "execution_count": null
  },
  {
   "metadata": {},
   "cell_type": "markdown",
   "source": "### UXsim data analysis",
   "id": "29b3f4a502adf28"
  },
  {
   "metadata": {},
   "cell_type": "code",
   "source": [
    "# time_bin (first level multi index) from seconds to hours\n",
    "uxsim_df.index = pd.MultiIndex.from_tuples([(time/3600+start_time, area) for time, area in uxsim_df.index], names=['time_bin', 'area'])\n",
    "\n",
    "# Filter the area index over city_areas\n",
    "uxsim_df = uxsim_df.loc[(slice(None), city_areas), :]"
   ],
   "id": "65837f77b52c8644",
   "outputs": [],
   "execution_count": null
  },
  {
   "metadata": {},
   "cell_type": "code",
   "source": [
    "# Plot\n",
    "fig, axs = plt.subplots(3, 2, figsize=(12, 12))\n",
    "axs = axs.flatten()\n",
    "\n",
    "for i, variable in enumerate(uxsim_df.columns):\n",
    "    sns.lineplot(data=uxsim_df, x='time_bin', y=variable,  ax=axs[i], errorbar=(\"pi\", 50))  # hue='area', palette='rocket'\n",
    "    axs[i].set_title(f\"{variable} in different areas\")\n",
    "    axs[i].set_ylabel(variable)\n",
    "    axs[i].set_xlabel('Time of day (hour)')\n",
    "    axs[i].set_xlim(start_time, end_time)\n",
    "    axs[i].set_ylim(bottom=0)\n",
    "    \n",
    "plt.savefig('img/uxsim_data.png', dpi=300, bbox_inches='tight')"
   ],
   "id": "b85622ab36a98735",
   "outputs": [],
   "execution_count": null
  },
  {
   "metadata": {},
   "cell_type": "markdown",
   "source": "### Parking data visualization",
   "id": "3ba0d41efd49a2d1"
  },
  {
   "metadata": {},
   "cell_type": "code",
   "source": [
    "# Convert parked_dict to DataFrame\n",
    "parked_df = pd.DataFrame(parked_dict)\n",
    "# Long form\n",
    "long_parked_df = parked_df.stack().reset_index()\n",
    "# Rename columns\n",
    "long_parked_df.columns = ['area', 'time', 'value']\n",
    "long_parked_df = long_parked_df.set_index(['time', 'area'])\n",
    "\n",
    "# Normalize the values on the first time step\n",
    "long_parked_df['parked_norm'] = long_parked_df.groupby('area')['value'].transform(lambda x: x / x.iloc[0])\n",
    "long_parked_df.head(3)"
   ],
   "id": "8f2c404ae6d83c24",
   "outputs": [],
   "execution_count": null
  },
  {
   "metadata": {},
   "cell_type": "code",
   "source": "gdf_mrdh_65 = pd.read_pickle(\"../data/areas_mrdh_weighted_centroids.pkl\")",
   "id": "de8775c069dd65af",
   "outputs": [],
   "execution_count": null
  },
  {
   "metadata": {},
   "cell_type": "code",
   "source": [
    "with open(\"../data/polygons.pkl\", \"rb\") as f:\n",
    "    city_polygon, area_polygon = pickle.load(f)\n",
    "\n",
    "city_polygon_series = gpd.GeoSeries(city_polygon, crs=\"epsg:4326\")\n",
    "city_polygon_series = city_polygon_series.to_crs(epsg=28992)\n",
    "gdf_mrdh_65[\"in_city\"] = gdf_mrdh_65.centroid.within(city_polygon_series.geometry[0])\n",
    "gdf_mrdh_65 = gdf_mrdh_65[gdf_mrdh_65[\"in_city\"]]"
   ],
   "id": "3dca6d09056b6a8e",
   "outputs": [],
   "execution_count": null
  },
  {
   "metadata": {},
   "cell_type": "code",
   "source": [
    "# Create a dictionary mapping the index to the area of gdf_mrdh_65\n",
    "area_dict = (gdf_mrdh_65.area / 1000000).to_dict()\n",
    "\n",
    "# Calculate the parked cars per area\n",
    "long_parked_df[\"parked_density\"] = long_parked_df[\"value\"] / long_parked_df.index.get_level_values(\"area\").map(area_dict)\n",
    "long_parked_df.head(3)"
   ],
   "id": "6b8008f998d11e1e",
   "outputs": [],
   "execution_count": null
  },
  {
   "metadata": {},
   "cell_type": "code",
   "source": [
    "# Plot\n",
    "fig, axs = plt.subplots(1, 3, figsize=(15, 4))\n",
    "axs = axs.flatten()\n",
    "for i, col in enumerate(['value', 'parked_norm', 'parked_density']):\n",
    "    sns.lineplot(data=long_parked_df, x='time', y=col, hue='area', palette='rocket', ax=axs[i])\n",
    "    axs[i].set_title(f'Parked cars in different areas ({col})')\n",
    "    axs[i].set_ylabel('Parked cars')\n",
    "    axs[i].set_xlabel('Time of day (hour)')\n",
    "    axs[i].set_xlim(start_time, end_time)\n",
    "    if col == 'value':\n",
    "        axs[i].set_ylim(bottom=0)\n",
    "\n",
    "# Save image\n",
    "plt.savefig('img/parked_data.png', dpi=300, bbox_inches='tight')"
   ],
   "id": "d33f72bcd06c3e28",
   "outputs": [],
   "execution_count": null
  }
 ],
 "metadata": {
  "kernelspec": {
   "display_name": "Python 3",
   "language": "python",
   "name": "python3"
  },
  "language_info": {
   "codemirror_mode": {
    "name": "ipython",
    "version": 2
   },
   "file_extension": ".py",
   "mimetype": "text/x-python",
   "name": "python",
   "nbconvert_exporter": "python",
   "pygments_lexer": "ipython2",
   "version": "2.7.6"
  }
 },
 "nbformat": 4,
 "nbformat_minor": 5
}
