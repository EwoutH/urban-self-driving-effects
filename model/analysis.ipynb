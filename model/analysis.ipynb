{
 "cells": [
  {
   "metadata": {},
   "cell_type": "code",
   "source": [
    "import pickle\n",
    "\n",
    "import pandas as pd\n",
    "import seaborn as sns\n",
    "import matplotlib.pyplot as plt"
   ],
   "id": "30f0cf31c29c017c",
   "outputs": [],
   "execution_count": null
  },
  {
   "metadata": {},
   "cell_type": "code",
   "source": [
    "# load uxsim_data.pkl\n",
    "with open('results/uxsim_data.pkl', 'rb') as f:\n",
    "    uxsim_data = pickle.load(f)\n",
    "with open('results/parked_dict.pkl', 'rb') as f:\n",
    "    parked_dict = pickle.load(f)"
   ],
   "id": "dd56f0db24627b63",
   "outputs": [],
   "execution_count": null
  },
  {
   "metadata": {},
   "cell_type": "code",
   "source": [
    "city_areas = [1, 2, 3, 4, 5, 6, 7, 8, 9, 10, 11, 13, 15, 28, 29, 31, 34, 41, 43, 44, 45]\n",
    "\n",
    "trips_by_hour_chances = pd.read_pickle(\"../data/trips_by_hour_chances.pickle\")\n",
    "trip_counts_distribution = pd.read_pickle(\"../data/trip_counts_distribution.pickle\")"
   ],
   "id": "323098a00b9ac278",
   "outputs": [],
   "execution_count": null
  },
  {
   "metadata": {},
   "cell_type": "markdown",
   "source": "### UXsim data processing",
   "id": "c679d675dd8da218"
  },
  {
   "metadata": {},
   "cell_type": "code",
   "source": [
    "combined_df = pd.concat(uxsim_data, names=['time'])\n",
    "combined_df = combined_df.reset_index(level=1, drop=True)\n",
    "combined_df = combined_df.set_index('area', append=True)\n",
    "# Round the time (index) to 3 decimal places\n",
    "combined_df.index = combined_df.index.set_levels(combined_df.index.levels[0].round(3), level=0)\n",
    "combined_df = combined_df.drop('n_links', axis=1)\n",
    "combined_df.head()"
   ],
   "id": "464ebb460c1fd339",
   "outputs": [],
   "execution_count": null
  },
  {
   "metadata": {},
   "cell_type": "code",
   "source": [
    "# Remove negative values\n",
    "print(f\"Number of negative values: {combined_df[combined_df < 0].count().sum()}\")\n",
    "combined_df = combined_df[combined_df >= 0]"
   ],
   "id": "e712c9263048e229",
   "outputs": [],
   "execution_count": null
  },
  {
   "metadata": {},
   "cell_type": "code",
   "source": [
    "# Convert to long form\n",
    "long_df = combined_df.stack().reset_index()\n",
    "long_df.columns = ['time', 'area', 'variable', 'value']\n",
    "# Only keep rows with area in city_areas\n",
    "long_df = long_df[long_df['area'].isin(city_areas)]\n",
    "long_df.head(6)"
   ],
   "id": "53cb4142d032d333",
   "outputs": [],
   "execution_count": null
  },
  {
   "metadata": {},
   "cell_type": "code",
   "source": [
    "variables = long_df['variable'].unique()\n",
    "\n",
    "fig, axs = plt.subplots(3, 2, figsize=(15, 15))\n",
    "axs = axs.flatten()\n",
    "\n",
    "for i, variable in enumerate(variables):\n",
    "    sns.lineplot(data=long_df[(long_df['variable'] == variable)], x='time', y='value', hue='area', palette='rocket', ax=axs[i])\n",
    "    axs[i].set_ylim(bottom=0)\n",
    "    axs[i].set_title(f\"{variable} in different areas\")\n",
    "    axs[i].set_ylabel(variable)\n",
    "    axs[i].set_xlabel('Time of day (hour)')\n",
    "# Save as png\n",
    "plt.savefig('img/uxsim_data.png', dpi=300, bbox_inches='tight')"
   ],
   "id": "e16ddfae5029bb57",
   "outputs": [],
   "execution_count": null
  },
  {
   "metadata": {},
   "cell_type": "markdown",
   "source": "### Input data visualization (for comparison)",
   "id": "ca7d87b26731c7f9"
  },
  {
   "metadata": {},
   "cell_type": "code",
   "source": [
    "start_time = int(long_df['time'].min())\n",
    "end_time = int(long_df['time'].max())"
   ],
   "id": "b72f08d66b9a2f48",
   "outputs": [],
   "execution_count": null
  },
  {
   "metadata": {},
   "cell_type": "code",
   "source": [
    "# For a weekday, take the average of days 0-3 (Monday-Thursday)\n",
    "trips_by_hour_chance = trips_by_hour_chances.iloc[:, 0:4].mean(axis=1).drop(\"Total\")\n",
    "# Drop the hours that are not in the range of the model and save as a dictionary\n",
    "trips_by_hour_chance = trips_by_hour_chance.loc[start_time:(end_time)]\n",
    "# Set column name\n",
    "trips_by_hour_chance.name = 'Chance'\n",
    "# To df\n",
    "trips_by_hour_chance = trips_by_hour_chance.reset_index()\n",
    "# Set hour as int\n",
    "trips_by_hour_chance['Hour'] = trips_by_hour_chance['Hour'].astype(int)\n",
    "trips_by_hour_chance.head()"
   ],
   "id": "8d3438a27ac62d9c",
   "outputs": [],
   "execution_count": null
  },
  {
   "metadata": {},
   "cell_type": "code",
   "source": [
    "# Plot trips_by_hour_chances series\n",
    "fig, ax = plt.subplots(figsize=(10, 5))\n",
    "sns.barplot(data=trips_by_hour_chance, x='Hour', y='Chance', ax=ax)\n",
    "ax.set_title('Trip chances per Agent per hour')\n",
    "ax.set_ylabel('Chance of taking trip')\n",
    "ax.set_xlabel('Time of day (hour)')"
   ],
   "id": "f49a1fa4b4863f46",
   "outputs": [],
   "execution_count": null
  },
  {
   "metadata": {},
   "cell_type": "markdown",
   "source": "### Parking data visualization",
   "id": "3ba0d41efd49a2d1"
  },
  {
   "metadata": {},
   "cell_type": "code",
   "source": [
    "# Convert parked_dict to DataFrame\n",
    "parked_df = pd.DataFrame(parked_dict)\n",
    "# Long form\n",
    "long_parked_df = parked_df.stack().reset_index()\n",
    "# Rename columns\n",
    "long_parked_df.columns = ['area', 'time', 'value']\n",
    "long_parked_df = long_parked_df.set_index(['time', 'area'])"
   ],
   "id": "8f2c404ae6d83c24",
   "outputs": [],
   "execution_count": null
  },
  {
   "metadata": {},
   "cell_type": "code",
   "source": [
    "# Plot\n",
    "fig, ax = plt.subplots(figsize=(10, 5))\n",
    "sns.lineplot(data=long_parked_df, x='time', y='value', hue='area', palette='rocket', ax=ax)\n",
    "ax.set_title('Parked cars in different areas')\n",
    "ax.set_ylabel('Parked cars')\n",
    "ax.set_xlabel('Time of day (hour)')\n",
    "\n",
    "# Save image\n",
    "plt.savefig('img/parked_data.png', dpi=300, bbox_inches='tight')"
   ],
   "id": "f1cdb9bd85c74aa4",
   "outputs": [],
   "execution_count": null
  }
 ],
 "metadata": {
  "kernelspec": {
   "display_name": "Python 3",
   "language": "python",
   "name": "python3"
  },
  "language_info": {
   "codemirror_mode": {
    "name": "ipython",
    "version": 2
   },
   "file_extension": ".py",
   "mimetype": "text/x-python",
   "name": "python",
   "nbconvert_exporter": "python",
   "pygments_lexer": "ipython2",
   "version": "2.7.6"
  }
 },
 "nbformat": 4,
 "nbformat_minor": 5
}
